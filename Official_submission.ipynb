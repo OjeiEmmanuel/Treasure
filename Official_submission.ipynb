{
 "cells": [
  {
   "cell_type": "markdown",
   "id": "498e634b",
   "metadata": {},
   "source": [
    "# Project: Investigating the TMDB MOVIES Dataset\n",
    "## Table of Contents\n",
    "<u1>\n",
    "<li><a href=\"#intro\">Introduction</a></li>\n",
    "<li><a href = \"#wrangling\">Data Wrangling</a></li>\n",
    "<li><a href = \"#eda\">Exploratory Data Analysis</a></li>\n",
    "<li><a href = \"#conclusion\">Conclusion</a></li>\n",
    "</u1>"
   ]
  },
  {
   "cell_type": "markdown",
   "id": "156de021",
   "metadata": {},
   "source": [
    "<a id='intro'></a>\n",
    "# Introduction\n",
    "## Dataset Description\n",
    "This dataset contains data for about 10000 movies, sourced from The Movie Database(TMDB).\n",
    "the different columns in this dataset are:\n",
    "1. \"id\"....this is an index numbering from \n",
    "2. \"imdb_id\" ....this is the original id given by the IMDB to differentiate different movies\n",
    "3. \"popularity\".... a rating of how popular the movie is \n",
    "4. \"budget\" ..........the total amount of money to be spent on the movie, from production to final marketing\n",
    "5. \"revenue\" ......the total amount of money gotten from the money, from sales, copyright etc\n",
    "6.  'original_title'....the name of the movie. this helps the end users to differentiate one movie from another,\n",
    "    as it is easier to pronounce compared to \"imdb_id\" values\n",
    "7. 'cast'.......the top actors and actress in the movie set\n",
    "8.  'homepage' .....the url with which one can easily download the movie online\n",
    "9.  'director' ..... the person that directed the movie.\n",
    "10. 'tagline' ....... a catch phrase to tell you what to expect from the movie\n",
    "11. 'keywords'...... words that one can can search online, and the movie will pop out as a suggestion\n",
    "12. 'overview'.....  A narration of what the movies entails\n",
    "13. 'runtime' .....  the amount of time in minutes that the movie will play\n",
    "14. 'genres' ....... What is the movie about?. is it Crime, science fiction, an adventure?\n",
    "15. 'production_companies'........which companies are involved in the production of the movie\n",
    "16. 'release_date'.........the exact date the movie was released\n",
    "17. 'vote_count'........total number of votes that it received\n",
    "18. 'vote_average' ......The rating of the movie, from a score of 0 to 10\n",
    "19. 'release_year'  ....... the year the movie was released\n",
    "20. 'budget_adj'    ...... adjusted figure for budget, putting inflation and time value of money into consideration\n",
    "21. 'revenue_adj'] .......likewise, this represents the adjusted figure for revenue, putting inflation and time value of money into consideration\n",
    "   \n",
    "\n",
    "\n",
    "# Questions for Analysis\n",
    "<u1>\n",
    "    <li><a href = \"#q1\">Most Popular Genres</a></li>\n",
    "    <li><a href = \"#q2\">What properties influence Revenues</a></li>\n",
    "    <li><a href = \"#q3\">Are latest movies performing better than old releases</a></li>\n",
    "    <li><a href = \"#q4\">Are more rated movies more successful than others</a></li>\n",
    "</u1>\n",
    "    \n",
    " \n"
   ]
  },
  {
   "cell_type": "markdown",
   "id": "f2a7c065",
   "metadata": {},
   "source": [
    "# Import necessary libraries and load dataset"
   ]
  },
  {
   "cell_type": "code",
   "execution_count": 326,
   "id": "c2f1f79c",
   "metadata": {},
   "outputs": [],
   "source": [
    "import pandas as pd\n",
    "import numpy as np\n",
    "import matplotlib.pyplot as plt\n",
    "import seaborn as sns\n",
    "df= pd.read_csv(\"tmdb-movies (1).csv\")"
   ]
  },
  {
   "cell_type": "markdown",
   "id": "8ce06077",
   "metadata": {},
   "source": [
    "<a id=\"wrangling\"></a>\n",
    "# data wrangling"
   ]
  },
  {
   "cell_type": "markdown",
   "id": "898589a1",
   "metadata": {},
   "source": [
    "## inspect / clean the dataset\n",
    "<u1>\n",
    "    <li><a href = \"#qa\">missing values</a></li>\n",
    "    <li><a href = \"#qb\">duplicated values</a></li>\n",
    "    <li><a href = \"#qc\">multicollinearity</a></li>\n",
    "    <li><a href = \"#qd\">outlook</a></li>\n",
    "    <li><a href = \"#qe\">cardinality</a></li>\n",
    "</u1>"
   ]
  },
  {
   "cell_type": "markdown",
   "id": "7dafc1db",
   "metadata": {},
   "source": [
    "<a id = \"qa\"></a>\n",
    "missing values"
   ]
  },
  {
   "cell_type": "code",
   "execution_count": 327,
   "id": "a6663a53",
   "metadata": {},
   "outputs": [
    {
     "data": {
      "text/plain": [
       "id                         0\n",
       "imdb_id                   10\n",
       "popularity                 0\n",
       "budget                     0\n",
       "revenue                    0\n",
       "original_title             0\n",
       "cast                      76\n",
       "homepage                7930\n",
       "director                  44\n",
       "tagline                 2824\n",
       "keywords                1493\n",
       "overview                   4\n",
       "runtime                    0\n",
       "genres                    23\n",
       "production_companies    1030\n",
       "release_date               0\n",
       "vote_count                 0\n",
       "vote_average               0\n",
       "release_year               0\n",
       "budget_adj                 0\n",
       "revenue_adj                0\n",
       "dtype: int64"
      ]
     },
     "execution_count": 327,
     "metadata": {},
     "output_type": "execute_result"
    }
   ],
   "source": [
    "df.isnull().sum()"
   ]
  },
  {
   "cell_type": "markdown",
   "id": "22c7cdd0",
   "metadata": {},
   "source": [
    "The dataset contains 10866 observations. the column containing the url of the movies, \"homepage\", has over 7900 missing values,\n",
    "this is way above 50% of the observations, and as such, cannot provide much information for analysis. it will be dropped"
   ]
  },
  {
   "cell_type": "code",
   "execution_count": 328,
   "id": "fe971b99",
   "metadata": {},
   "outputs": [],
   "source": [
    "df.drop(columns=\"homepage\",inplace=True)"
   ]
  },
  {
   "cell_type": "markdown",
   "id": "5bdb56dc",
   "metadata": {},
   "source": [
    "<a id=\"qb\"></a>\n",
    "Duplicated rows"
   ]
  },
  {
   "cell_type": "code",
   "execution_count": 329,
   "id": "e17557e7",
   "metadata": {},
   "outputs": [
    {
     "data": {
      "text/plain": [
       "1"
      ]
     },
     "execution_count": 329,
     "metadata": {},
     "output_type": "execute_result"
    }
   ],
   "source": [
    "df.duplicated().sum()"
   ]
  },
  {
   "cell_type": "code",
   "execution_count": 330,
   "id": "424efa60",
   "metadata": {},
   "outputs": [],
   "source": [
    "# drop the duplicates\n",
    "df.drop_duplicates(inplace=True)"
   ]
  },
  {
   "cell_type": "markdown",
   "id": "e66c4b4a",
   "metadata": {},
   "source": [
    "<a id = \"qc\"></a>\n",
    "multicollinearity"
   ]
  },
  {
   "cell_type": "code",
   "execution_count": 331,
   "id": "e09dff76",
   "metadata": {},
   "outputs": [
    {
     "data": {
      "text/html": [
       "<div>\n",
       "<style scoped>\n",
       "    .dataframe tbody tr th:only-of-type {\n",
       "        vertical-align: middle;\n",
       "    }\n",
       "\n",
       "    .dataframe tbody tr th {\n",
       "        vertical-align: top;\n",
       "    }\n",
       "\n",
       "    .dataframe thead th {\n",
       "        text-align: right;\n",
       "    }\n",
       "</style>\n",
       "<table border=\"1\" class=\"dataframe\">\n",
       "  <thead>\n",
       "    <tr style=\"text-align: right;\">\n",
       "      <th></th>\n",
       "      <th>id</th>\n",
       "      <th>popularity</th>\n",
       "      <th>budget</th>\n",
       "      <th>revenue</th>\n",
       "      <th>runtime</th>\n",
       "      <th>vote_count</th>\n",
       "      <th>vote_average</th>\n",
       "      <th>release_year</th>\n",
       "      <th>budget_adj</th>\n",
       "      <th>revenue_adj</th>\n",
       "    </tr>\n",
       "  </thead>\n",
       "  <tbody>\n",
       "    <tr>\n",
       "      <th>id</th>\n",
       "      <td>1.000000</td>\n",
       "      <td>-0.014351</td>\n",
       "      <td>-0.141341</td>\n",
       "      <td>-0.099235</td>\n",
       "      <td>-0.088368</td>\n",
       "      <td>-0.035555</td>\n",
       "      <td>-0.058391</td>\n",
       "      <td>0.511393</td>\n",
       "      <td>-0.189008</td>\n",
       "      <td>-0.138487</td>\n",
       "    </tr>\n",
       "    <tr>\n",
       "      <th>popularity</th>\n",
       "      <td>-0.014351</td>\n",
       "      <td>1.000000</td>\n",
       "      <td>0.545481</td>\n",
       "      <td>0.663360</td>\n",
       "      <td>0.139032</td>\n",
       "      <td>0.800828</td>\n",
       "      <td>0.209517</td>\n",
       "      <td>0.089806</td>\n",
       "      <td>0.513555</td>\n",
       "      <td>0.609085</td>\n",
       "    </tr>\n",
       "    <tr>\n",
       "      <th>budget</th>\n",
       "      <td>-0.141341</td>\n",
       "      <td>0.545481</td>\n",
       "      <td>1.000000</td>\n",
       "      <td>0.734928</td>\n",
       "      <td>0.191300</td>\n",
       "      <td>0.632719</td>\n",
       "      <td>0.081067</td>\n",
       "      <td>0.115904</td>\n",
       "      <td>0.968963</td>\n",
       "      <td>0.622531</td>\n",
       "    </tr>\n",
       "    <tr>\n",
       "      <th>revenue</th>\n",
       "      <td>-0.099235</td>\n",
       "      <td>0.663360</td>\n",
       "      <td>0.734928</td>\n",
       "      <td>1.000000</td>\n",
       "      <td>0.162830</td>\n",
       "      <td>0.791174</td>\n",
       "      <td>0.172541</td>\n",
       "      <td>0.057070</td>\n",
       "      <td>0.706446</td>\n",
       "      <td>0.919109</td>\n",
       "    </tr>\n",
       "    <tr>\n",
       "      <th>runtime</th>\n",
       "      <td>-0.088368</td>\n",
       "      <td>0.139032</td>\n",
       "      <td>0.191300</td>\n",
       "      <td>0.162830</td>\n",
       "      <td>1.000000</td>\n",
       "      <td>0.163273</td>\n",
       "      <td>0.156813</td>\n",
       "      <td>-0.117187</td>\n",
       "      <td>0.221127</td>\n",
       "      <td>0.175668</td>\n",
       "    </tr>\n",
       "    <tr>\n",
       "      <th>vote_count</th>\n",
       "      <td>-0.035555</td>\n",
       "      <td>0.800828</td>\n",
       "      <td>0.632719</td>\n",
       "      <td>0.791174</td>\n",
       "      <td>0.163273</td>\n",
       "      <td>1.000000</td>\n",
       "      <td>0.253818</td>\n",
       "      <td>0.107962</td>\n",
       "      <td>0.587062</td>\n",
       "      <td>0.707941</td>\n",
       "    </tr>\n",
       "    <tr>\n",
       "      <th>vote_average</th>\n",
       "      <td>-0.058391</td>\n",
       "      <td>0.209517</td>\n",
       "      <td>0.081067</td>\n",
       "      <td>0.172541</td>\n",
       "      <td>0.156813</td>\n",
       "      <td>0.253818</td>\n",
       "      <td>1.000000</td>\n",
       "      <td>-0.117576</td>\n",
       "      <td>0.093079</td>\n",
       "      <td>0.193062</td>\n",
       "    </tr>\n",
       "    <tr>\n",
       "      <th>release_year</th>\n",
       "      <td>0.511393</td>\n",
       "      <td>0.089806</td>\n",
       "      <td>0.115904</td>\n",
       "      <td>0.057070</td>\n",
       "      <td>-0.117187</td>\n",
       "      <td>0.107962</td>\n",
       "      <td>-0.117576</td>\n",
       "      <td>1.000000</td>\n",
       "      <td>0.016771</td>\n",
       "      <td>-0.066236</td>\n",
       "    </tr>\n",
       "    <tr>\n",
       "      <th>budget_adj</th>\n",
       "      <td>-0.189008</td>\n",
       "      <td>0.513555</td>\n",
       "      <td>0.968963</td>\n",
       "      <td>0.706446</td>\n",
       "      <td>0.221127</td>\n",
       "      <td>0.587062</td>\n",
       "      <td>0.093079</td>\n",
       "      <td>0.016771</td>\n",
       "      <td>1.000000</td>\n",
       "      <td>0.646627</td>\n",
       "    </tr>\n",
       "    <tr>\n",
       "      <th>revenue_adj</th>\n",
       "      <td>-0.138487</td>\n",
       "      <td>0.609085</td>\n",
       "      <td>0.622531</td>\n",
       "      <td>0.919109</td>\n",
       "      <td>0.175668</td>\n",
       "      <td>0.707941</td>\n",
       "      <td>0.193062</td>\n",
       "      <td>-0.066236</td>\n",
       "      <td>0.646627</td>\n",
       "      <td>1.000000</td>\n",
       "    </tr>\n",
       "  </tbody>\n",
       "</table>\n",
       "</div>"
      ],
      "text/plain": [
       "                    id  popularity    budget   revenue   runtime  vote_count  \\\n",
       "id            1.000000   -0.014351 -0.141341 -0.099235 -0.088368   -0.035555   \n",
       "popularity   -0.014351    1.000000  0.545481  0.663360  0.139032    0.800828   \n",
       "budget       -0.141341    0.545481  1.000000  0.734928  0.191300    0.632719   \n",
       "revenue      -0.099235    0.663360  0.734928  1.000000  0.162830    0.791174   \n",
       "runtime      -0.088368    0.139032  0.191300  0.162830  1.000000    0.163273   \n",
       "vote_count   -0.035555    0.800828  0.632719  0.791174  0.163273    1.000000   \n",
       "vote_average -0.058391    0.209517  0.081067  0.172541  0.156813    0.253818   \n",
       "release_year  0.511393    0.089806  0.115904  0.057070 -0.117187    0.107962   \n",
       "budget_adj   -0.189008    0.513555  0.968963  0.706446  0.221127    0.587062   \n",
       "revenue_adj  -0.138487    0.609085  0.622531  0.919109  0.175668    0.707941   \n",
       "\n",
       "              vote_average  release_year  budget_adj  revenue_adj  \n",
       "id               -0.058391      0.511393   -0.189008    -0.138487  \n",
       "popularity        0.209517      0.089806    0.513555     0.609085  \n",
       "budget            0.081067      0.115904    0.968963     0.622531  \n",
       "revenue           0.172541      0.057070    0.706446     0.919109  \n",
       "runtime           0.156813     -0.117187    0.221127     0.175668  \n",
       "vote_count        0.253818      0.107962    0.587062     0.707941  \n",
       "vote_average      1.000000     -0.117576    0.093079     0.193062  \n",
       "release_year     -0.117576      1.000000    0.016771    -0.066236  \n",
       "budget_adj        0.093079      0.016771    1.000000     0.646627  \n",
       "revenue_adj       0.193062     -0.066236    0.646627     1.000000  "
      ]
     },
     "execution_count": 331,
     "metadata": {},
     "output_type": "execute_result"
    }
   ],
   "source": [
    "df.corr()"
   ]
  },
  {
   "cell_type": "markdown",
   "id": "97f46bcb",
   "metadata": {},
   "source": [
    "## drop multicollinearty high columns\n",
    "from above, budget is very corelated with budget_adj, revenue is also correlated with revenue_adj. hence both will be dopped\n",
    "from accounting point of view, it also makes sense to drop budget and revenue columns as the dollar value of 1965 is not same today"
   ]
  },
  {
   "cell_type": "code",
   "execution_count": 332,
   "id": "4728a52d",
   "metadata": {},
   "outputs": [],
   "source": [
    "multicols = [\"budget\",\"revenue\"]"
   ]
  },
  {
   "cell_type": "code",
   "execution_count": 333,
   "id": "18a272ec",
   "metadata": {},
   "outputs": [],
   "source": [
    "df.drop(columns=multicols,inplace= True)"
   ]
  },
  {
   "cell_type": "markdown",
   "id": "47d83a0e",
   "metadata": {},
   "source": [
    "<a id = \"qd\"></a>\n",
    "outlook"
   ]
  },
  {
   "cell_type": "code",
   "execution_count": 334,
   "id": "869f6d30",
   "metadata": {},
   "outputs": [
    {
     "data": {
      "text/plain": [
       "(10865, 18)"
      ]
     },
     "execution_count": 334,
     "metadata": {},
     "output_type": "execute_result"
    }
   ],
   "source": [
    "df.shape"
   ]
  },
  {
   "cell_type": "code",
   "execution_count": 335,
   "id": "c1d72cd6",
   "metadata": {},
   "outputs": [
    {
     "data": {
      "text/html": [
       "<div>\n",
       "<style scoped>\n",
       "    .dataframe tbody tr th:only-of-type {\n",
       "        vertical-align: middle;\n",
       "    }\n",
       "\n",
       "    .dataframe tbody tr th {\n",
       "        vertical-align: top;\n",
       "    }\n",
       "\n",
       "    .dataframe thead th {\n",
       "        text-align: right;\n",
       "    }\n",
       "</style>\n",
       "<table border=\"1\" class=\"dataframe\">\n",
       "  <thead>\n",
       "    <tr style=\"text-align: right;\">\n",
       "      <th></th>\n",
       "      <th>id</th>\n",
       "      <th>imdb_id</th>\n",
       "      <th>popularity</th>\n",
       "      <th>original_title</th>\n",
       "      <th>cast</th>\n",
       "      <th>director</th>\n",
       "      <th>tagline</th>\n",
       "      <th>keywords</th>\n",
       "      <th>overview</th>\n",
       "      <th>runtime</th>\n",
       "      <th>genres</th>\n",
       "      <th>production_companies</th>\n",
       "      <th>release_date</th>\n",
       "      <th>vote_count</th>\n",
       "      <th>vote_average</th>\n",
       "      <th>release_year</th>\n",
       "      <th>budget_adj</th>\n",
       "      <th>revenue_adj</th>\n",
       "    </tr>\n",
       "  </thead>\n",
       "  <tbody>\n",
       "    <tr>\n",
       "      <th>0</th>\n",
       "      <td>135397</td>\n",
       "      <td>tt0369610</td>\n",
       "      <td>32.985763</td>\n",
       "      <td>Jurassic World</td>\n",
       "      <td>Chris Pratt|Bryce Dallas Howard|Irrfan Khan|Vi...</td>\n",
       "      <td>Colin Trevorrow</td>\n",
       "      <td>The park is open.</td>\n",
       "      <td>monster|dna|tyrannosaurus rex|velociraptor|island</td>\n",
       "      <td>Twenty-two years after the events of Jurassic ...</td>\n",
       "      <td>124</td>\n",
       "      <td>Action|Adventure|Science Fiction|Thriller</td>\n",
       "      <td>Universal Studios|Amblin Entertainment|Legenda...</td>\n",
       "      <td>6/9/15</td>\n",
       "      <td>5562</td>\n",
       "      <td>6.5</td>\n",
       "      <td>2015</td>\n",
       "      <td>1.379999e+08</td>\n",
       "      <td>1.392446e+09</td>\n",
       "    </tr>\n",
       "    <tr>\n",
       "      <th>1</th>\n",
       "      <td>76341</td>\n",
       "      <td>tt1392190</td>\n",
       "      <td>28.419936</td>\n",
       "      <td>Mad Max: Fury Road</td>\n",
       "      <td>Tom Hardy|Charlize Theron|Hugh Keays-Byrne|Nic...</td>\n",
       "      <td>George Miller</td>\n",
       "      <td>What a Lovely Day.</td>\n",
       "      <td>future|chase|post-apocalyptic|dystopia|australia</td>\n",
       "      <td>An apocalyptic story set in the furthest reach...</td>\n",
       "      <td>120</td>\n",
       "      <td>Action|Adventure|Science Fiction|Thriller</td>\n",
       "      <td>Village Roadshow Pictures|Kennedy Miller Produ...</td>\n",
       "      <td>5/13/15</td>\n",
       "      <td>6185</td>\n",
       "      <td>7.1</td>\n",
       "      <td>2015</td>\n",
       "      <td>1.379999e+08</td>\n",
       "      <td>3.481613e+08</td>\n",
       "    </tr>\n",
       "    <tr>\n",
       "      <th>2</th>\n",
       "      <td>262500</td>\n",
       "      <td>tt2908446</td>\n",
       "      <td>13.112507</td>\n",
       "      <td>Insurgent</td>\n",
       "      <td>Shailene Woodley|Theo James|Kate Winslet|Ansel...</td>\n",
       "      <td>Robert Schwentke</td>\n",
       "      <td>One Choice Can Destroy You</td>\n",
       "      <td>based on novel|revolution|dystopia|sequel|dyst...</td>\n",
       "      <td>Beatrice Prior must confront her inner demons ...</td>\n",
       "      <td>119</td>\n",
       "      <td>Adventure|Science Fiction|Thriller</td>\n",
       "      <td>Summit Entertainment|Mandeville Films|Red Wago...</td>\n",
       "      <td>3/18/15</td>\n",
       "      <td>2480</td>\n",
       "      <td>6.3</td>\n",
       "      <td>2015</td>\n",
       "      <td>1.012000e+08</td>\n",
       "      <td>2.716190e+08</td>\n",
       "    </tr>\n",
       "    <tr>\n",
       "      <th>3</th>\n",
       "      <td>140607</td>\n",
       "      <td>tt2488496</td>\n",
       "      <td>11.173104</td>\n",
       "      <td>Star Wars: The Force Awakens</td>\n",
       "      <td>Harrison Ford|Mark Hamill|Carrie Fisher|Adam D...</td>\n",
       "      <td>J.J. Abrams</td>\n",
       "      <td>Every generation has a story.</td>\n",
       "      <td>android|spaceship|jedi|space opera|3d</td>\n",
       "      <td>Thirty years after defeating the Galactic Empi...</td>\n",
       "      <td>136</td>\n",
       "      <td>Action|Adventure|Science Fiction|Fantasy</td>\n",
       "      <td>Lucasfilm|Truenorth Productions|Bad Robot</td>\n",
       "      <td>12/15/15</td>\n",
       "      <td>5292</td>\n",
       "      <td>7.5</td>\n",
       "      <td>2015</td>\n",
       "      <td>1.839999e+08</td>\n",
       "      <td>1.902723e+09</td>\n",
       "    </tr>\n",
       "    <tr>\n",
       "      <th>4</th>\n",
       "      <td>168259</td>\n",
       "      <td>tt2820852</td>\n",
       "      <td>9.335014</td>\n",
       "      <td>Furious 7</td>\n",
       "      <td>Vin Diesel|Paul Walker|Jason Statham|Michelle ...</td>\n",
       "      <td>James Wan</td>\n",
       "      <td>Vengeance Hits Home</td>\n",
       "      <td>car race|speed|revenge|suspense|car</td>\n",
       "      <td>Deckard Shaw seeks revenge against Dominic Tor...</td>\n",
       "      <td>137</td>\n",
       "      <td>Action|Crime|Thriller</td>\n",
       "      <td>Universal Pictures|Original Film|Media Rights ...</td>\n",
       "      <td>4/1/15</td>\n",
       "      <td>2947</td>\n",
       "      <td>7.3</td>\n",
       "      <td>2015</td>\n",
       "      <td>1.747999e+08</td>\n",
       "      <td>1.385749e+09</td>\n",
       "    </tr>\n",
       "  </tbody>\n",
       "</table>\n",
       "</div>"
      ],
      "text/plain": [
       "       id    imdb_id  popularity                original_title  \\\n",
       "0  135397  tt0369610   32.985763                Jurassic World   \n",
       "1   76341  tt1392190   28.419936            Mad Max: Fury Road   \n",
       "2  262500  tt2908446   13.112507                     Insurgent   \n",
       "3  140607  tt2488496   11.173104  Star Wars: The Force Awakens   \n",
       "4  168259  tt2820852    9.335014                     Furious 7   \n",
       "\n",
       "                                                cast          director  \\\n",
       "0  Chris Pratt|Bryce Dallas Howard|Irrfan Khan|Vi...   Colin Trevorrow   \n",
       "1  Tom Hardy|Charlize Theron|Hugh Keays-Byrne|Nic...     George Miller   \n",
       "2  Shailene Woodley|Theo James|Kate Winslet|Ansel...  Robert Schwentke   \n",
       "3  Harrison Ford|Mark Hamill|Carrie Fisher|Adam D...       J.J. Abrams   \n",
       "4  Vin Diesel|Paul Walker|Jason Statham|Michelle ...         James Wan   \n",
       "\n",
       "                         tagline  \\\n",
       "0              The park is open.   \n",
       "1             What a Lovely Day.   \n",
       "2     One Choice Can Destroy You   \n",
       "3  Every generation has a story.   \n",
       "4            Vengeance Hits Home   \n",
       "\n",
       "                                            keywords  \\\n",
       "0  monster|dna|tyrannosaurus rex|velociraptor|island   \n",
       "1   future|chase|post-apocalyptic|dystopia|australia   \n",
       "2  based on novel|revolution|dystopia|sequel|dyst...   \n",
       "3              android|spaceship|jedi|space opera|3d   \n",
       "4                car race|speed|revenge|suspense|car   \n",
       "\n",
       "                                            overview  runtime  \\\n",
       "0  Twenty-two years after the events of Jurassic ...      124   \n",
       "1  An apocalyptic story set in the furthest reach...      120   \n",
       "2  Beatrice Prior must confront her inner demons ...      119   \n",
       "3  Thirty years after defeating the Galactic Empi...      136   \n",
       "4  Deckard Shaw seeks revenge against Dominic Tor...      137   \n",
       "\n",
       "                                      genres  \\\n",
       "0  Action|Adventure|Science Fiction|Thriller   \n",
       "1  Action|Adventure|Science Fiction|Thriller   \n",
       "2         Adventure|Science Fiction|Thriller   \n",
       "3   Action|Adventure|Science Fiction|Fantasy   \n",
       "4                      Action|Crime|Thriller   \n",
       "\n",
       "                                production_companies release_date  vote_count  \\\n",
       "0  Universal Studios|Amblin Entertainment|Legenda...       6/9/15        5562   \n",
       "1  Village Roadshow Pictures|Kennedy Miller Produ...      5/13/15        6185   \n",
       "2  Summit Entertainment|Mandeville Films|Red Wago...      3/18/15        2480   \n",
       "3          Lucasfilm|Truenorth Productions|Bad Robot     12/15/15        5292   \n",
       "4  Universal Pictures|Original Film|Media Rights ...       4/1/15        2947   \n",
       "\n",
       "   vote_average  release_year    budget_adj   revenue_adj  \n",
       "0           6.5          2015  1.379999e+08  1.392446e+09  \n",
       "1           7.1          2015  1.379999e+08  3.481613e+08  \n",
       "2           6.3          2015  1.012000e+08  2.716190e+08  \n",
       "3           7.5          2015  1.839999e+08  1.902723e+09  \n",
       "4           7.3          2015  1.747999e+08  1.385749e+09  "
      ]
     },
     "execution_count": 335,
     "metadata": {},
     "output_type": "execute_result"
    }
   ],
   "source": [
    "df.head()"
   ]
  },
  {
   "cell_type": "code",
   "execution_count": 336,
   "id": "7aacb62d",
   "metadata": {},
   "outputs": [
    {
     "name": "stdout",
     "output_type": "stream",
     "text": [
      "<class 'pandas.core.frame.DataFrame'>\n",
      "Int64Index: 10865 entries, 0 to 10865\n",
      "Data columns (total 18 columns):\n",
      " #   Column                Non-Null Count  Dtype  \n",
      "---  ------                --------------  -----  \n",
      " 0   id                    10865 non-null  int64  \n",
      " 1   imdb_id               10855 non-null  object \n",
      " 2   popularity            10865 non-null  float64\n",
      " 3   original_title        10865 non-null  object \n",
      " 4   cast                  10789 non-null  object \n",
      " 5   director              10821 non-null  object \n",
      " 6   tagline               8041 non-null   object \n",
      " 7   keywords              9372 non-null   object \n",
      " 8   overview              10861 non-null  object \n",
      " 9   runtime               10865 non-null  int64  \n",
      " 10  genres                10842 non-null  object \n",
      " 11  production_companies  9835 non-null   object \n",
      " 12  release_date          10865 non-null  object \n",
      " 13  vote_count            10865 non-null  int64  \n",
      " 14  vote_average          10865 non-null  float64\n",
      " 15  release_year          10865 non-null  int64  \n",
      " 16  budget_adj            10865 non-null  float64\n",
      " 17  revenue_adj           10865 non-null  float64\n",
      "dtypes: float64(4), int64(4), object(10)\n",
      "memory usage: 1.6+ MB\n"
     ]
    }
   ],
   "source": [
    "df.info()"
   ]
  },
  {
   "cell_type": "markdown",
   "id": "a69ed54e",
   "metadata": {},
   "source": [
    "<a id=\"qe\"></a>\n",
    "cardinality\n",
    "the keywords column appears to have too many values. after applying str.split(), some columns have as many as 3000 unique values, as such, it can only provide very little information. hence, it shoud be dropped."
   ]
  },
  {
   "cell_type": "code",
   "execution_count": 337,
   "id": "f2fc6704",
   "metadata": {},
   "outputs": [],
   "source": [
    "df.drop(columns=\"keywords\",inplace=True)"
   ]
  },
  {
   "cell_type": "markdown",
   "id": "57a6f814",
   "metadata": {},
   "source": [
    "<a id=\"eda\"></a>\n",
    "# Exploratory Data Analysis"
   ]
  },
  {
   "cell_type": "markdown",
   "id": "4b180972",
   "metadata": {},
   "source": [
    "Most Popular Genres\n",
    "What properties influence Revenues\n",
    "Does Genre influence revenue or budget\n",
    "Does popularity equate to success for the movies\n"
   ]
  },
  {
   "cell_type": "markdown",
   "id": "e6b12dea",
   "metadata": {},
   "source": [
    "<a id =\"q1\"></a>\n"
   ]
  },
  {
   "cell_type": "markdown",
   "id": "01d57b70",
   "metadata": {},
   "source": [
    "## Most Popular Genres"
   ]
  },
  {
   "cell_type": "code",
   "execution_count": 338,
   "id": "93dea53c",
   "metadata": {},
   "outputs": [
    {
     "data": {
      "text/plain": [
       "0    Action|Adventure|Science Fiction|Thriller\n",
       "1    Action|Adventure|Science Fiction|Thriller\n",
       "2           Adventure|Science Fiction|Thriller\n",
       "3     Action|Adventure|Science Fiction|Fantasy\n",
       "4                        Action|Crime|Thriller\n",
       "5             Western|Drama|Adventure|Thriller\n",
       "6    Science Fiction|Action|Thriller|Adventure\n",
       "7              Drama|Adventure|Science Fiction\n",
       "8            Family|Animation|Adventure|Comedy\n",
       "9                      Comedy|Animation|Family\n",
       "Name: genres, dtype: object"
      ]
     },
     "execution_count": 338,
     "metadata": {},
     "output_type": "execute_result"
    }
   ],
   "source": [
    "# taking a look at the contents\n",
    "df[\"genres\"].head(10)"
   ]
  },
  {
   "cell_type": "code",
   "execution_count": 339,
   "id": "d07e9816",
   "metadata": {},
   "outputs": [],
   "source": [
    "# separating contents\n",
    "\n",
    "df[\"genres\"].str.split(\"|\",expand=True)\n",
    "\n",
    "# taking a look at the different columns, they have exactly same contents, and column 0 is the only one without missing values\n",
    "# hence, it will be assumed that the first entry is the principal genre\n",
    "\n",
    "df[\"genres\"] =df[\"genres\"].str.split(\"|\",expand=True)[0]"
   ]
  },
  {
   "cell_type": "code",
   "execution_count": 340,
   "id": "da174a90",
   "metadata": {},
   "outputs": [],
   "source": [
    "# how much does each genre generate\n",
    "genre_series=df.groupby(\"genres\")[\"revenue_adj\"].sum().sort_values(ascending=False)"
   ]
  },
  {
   "cell_type": "code",
   "execution_count": 341,
   "id": "48efbb2c",
   "metadata": {},
   "outputs": [
    {
     "data": {
      "image/png": "[encoded data removed]",
      "text/plain": [
       "<Figure size 432x288 with 1 Axes>"
      ]
     },
     "metadata": {
      "needs_background": "light"
     },
     "output_type": "display_data"
    }
   ],
   "source": [
    "plt.bar(x=genre_series.index,height=genre_series.values)\n",
    "plt.xlabel(\"genre\")\n",
    "plt.ylabel(\"revenue_adj\")\n",
    "plt.title(\"Plot of genres vs Revenue_adj\")\n",
    "plt.xticks(rotation=90)\n",
    "plt.show()"
   ]
  },
  {
   "cell_type": "markdown",
   "id": "95e45802",
   "metadata": {},
   "source": [
    "<a id = \"q2\"></a>"
   ]
  },
  {
   "cell_type": "markdown",
   "id": "fa7b9847",
   "metadata": {},
   "source": [
    "## What properties influence Revenues"
   ]
  },
  {
   "cell_type": "code",
   "execution_count": 342,
   "id": "c395e532",
   "metadata": {},
   "outputs": [
    {
     "data": {
      "text/html": [
       "<div>\n",
       "<style scoped>\n",
       "    .dataframe tbody tr th:only-of-type {\n",
       "        vertical-align: middle;\n",
       "    }\n",
       "\n",
       "    .dataframe tbody tr th {\n",
       "        vertical-align: top;\n",
       "    }\n",
       "\n",
       "    .dataframe thead th {\n",
       "        text-align: right;\n",
       "    }\n",
       "</style>\n",
       "<table border=\"1\" class=\"dataframe\">\n",
       "  <thead>\n",
       "    <tr style=\"text-align: right;\">\n",
       "      <th></th>\n",
       "      <th>id</th>\n",
       "      <th>popularity</th>\n",
       "      <th>runtime</th>\n",
       "      <th>vote_count</th>\n",
       "      <th>vote_average</th>\n",
       "      <th>release_year</th>\n",
       "      <th>budget_adj</th>\n",
       "      <th>revenue_adj</th>\n",
       "    </tr>\n",
       "  </thead>\n",
       "  <tbody>\n",
       "    <tr>\n",
       "      <th>id</th>\n",
       "      <td>1.000000</td>\n",
       "      <td>-0.014351</td>\n",
       "      <td>-0.088368</td>\n",
       "      <td>-0.035555</td>\n",
       "      <td>-0.058391</td>\n",
       "      <td>0.511393</td>\n",
       "      <td>-0.189008</td>\n",
       "      <td>-0.138487</td>\n",
       "    </tr>\n",
       "    <tr>\n",
       "      <th>popularity</th>\n",
       "      <td>-0.014351</td>\n",
       "      <td>1.000000</td>\n",
       "      <td>0.139032</td>\n",
       "      <td>0.800828</td>\n",
       "      <td>0.209517</td>\n",
       "      <td>0.089806</td>\n",
       "      <td>0.513555</td>\n",
       "      <td>0.609085</td>\n",
       "    </tr>\n",
       "    <tr>\n",
       "      <th>runtime</th>\n",
       "      <td>-0.088368</td>\n",
       "      <td>0.139032</td>\n",
       "      <td>1.000000</td>\n",
       "      <td>0.163273</td>\n",
       "      <td>0.156813</td>\n",
       "      <td>-0.117187</td>\n",
       "      <td>0.221127</td>\n",
       "      <td>0.175668</td>\n",
       "    </tr>\n",
       "    <tr>\n",
       "      <th>vote_count</th>\n",
       "      <td>-0.035555</td>\n",
       "      <td>0.800828</td>\n",
       "      <td>0.163273</td>\n",
       "      <td>1.000000</td>\n",
       "      <td>0.253818</td>\n",
       "      <td>0.107962</td>\n",
       "      <td>0.587062</td>\n",
       "      <td>0.707941</td>\n",
       "    </tr>\n",
       "    <tr>\n",
       "      <th>vote_average</th>\n",
       "      <td>-0.058391</td>\n",
       "      <td>0.209517</td>\n",
       "      <td>0.156813</td>\n",
       "      <td>0.253818</td>\n",
       "      <td>1.000000</td>\n",
       "      <td>-0.117576</td>\n",
       "      <td>0.093079</td>\n",
       "      <td>0.193062</td>\n",
       "    </tr>\n",
       "    <tr>\n",
       "      <th>release_year</th>\n",
       "      <td>0.511393</td>\n",
       "      <td>0.089806</td>\n",
       "      <td>-0.117187</td>\n",
       "      <td>0.107962</td>\n",
       "      <td>-0.117576</td>\n",
       "      <td>1.000000</td>\n",
       "      <td>0.016771</td>\n",
       "      <td>-0.066236</td>\n",
       "    </tr>\n",
       "    <tr>\n",
       "      <th>budget_adj</th>\n",
       "      <td>-0.189008</td>\n",
       "      <td>0.513555</td>\n",
       "      <td>0.221127</td>\n",
       "      <td>0.587062</td>\n",
       "      <td>0.093079</td>\n",
       "      <td>0.016771</td>\n",
       "      <td>1.000000</td>\n",
       "      <td>0.646627</td>\n",
       "    </tr>\n",
       "    <tr>\n",
       "      <th>revenue_adj</th>\n",
       "      <td>-0.138487</td>\n",
       "      <td>0.609085</td>\n",
       "      <td>0.175668</td>\n",
       "      <td>0.707941</td>\n",
       "      <td>0.193062</td>\n",
       "      <td>-0.066236</td>\n",
       "      <td>0.646627</td>\n",
       "      <td>1.000000</td>\n",
       "    </tr>\n",
       "  </tbody>\n",
       "</table>\n",
       "</div>"
      ],
      "text/plain": [
       "                    id  popularity   runtime  vote_count  vote_average  \\\n",
       "id            1.000000   -0.014351 -0.088368   -0.035555     -0.058391   \n",
       "popularity   -0.014351    1.000000  0.139032    0.800828      0.209517   \n",
       "runtime      -0.088368    0.139032  1.000000    0.163273      0.156813   \n",
       "vote_count   -0.035555    0.800828  0.163273    1.000000      0.253818   \n",
       "vote_average -0.058391    0.209517  0.156813    0.253818      1.000000   \n",
       "release_year  0.511393    0.089806 -0.117187    0.107962     -0.117576   \n",
       "budget_adj   -0.189008    0.513555  0.221127    0.587062      0.093079   \n",
       "revenue_adj  -0.138487    0.609085  0.175668    0.707941      0.193062   \n",
       "\n",
       "              release_year  budget_adj  revenue_adj  \n",
       "id                0.511393   -0.189008    -0.138487  \n",
       "popularity        0.089806    0.513555     0.609085  \n",
       "runtime          -0.117187    0.221127     0.175668  \n",
       "vote_count        0.107962    0.587062     0.707941  \n",
       "vote_average     -0.117576    0.093079     0.193062  \n",
       "release_year      1.000000    0.016771    -0.066236  \n",
       "budget_adj        0.016771    1.000000     0.646627  \n",
       "revenue_adj      -0.066236    0.646627     1.000000  "
      ]
     },
     "execution_count": 342,
     "metadata": {},
     "output_type": "execute_result"
    }
   ],
   "source": [
    "# for numerical columns, the factors can be gotten from \n",
    "df.corr()\n"
   ]
  },
  {
   "cell_type": "markdown",
   "id": "90000718",
   "metadata": {},
   "source": [
    "Those columns that have more 0.5 correlation with the revenue_adj column are more influential than others\n",
    "these are\n",
    "1.\"popularity\"\n",
    "2.\"vote_count\"\n",
    "3.\"budget_adj\""
   ]
  },
  {
   "cell_type": "code",
   "execution_count": 355,
   "id": "28ebd1fd",
   "metadata": {},
   "outputs": [],
   "source": [
    "# in order to preserve the original dataframe, a new one will be made\n",
    "df_cat=df.copy()\n",
    "\n",
    "# remove numeric columns from df_cat\n",
    "numeric = []\n",
    "for j in df_cat.columns:\n",
    "    if df_cat[j].dtype!=\"object\":\n",
    "        numeric.append(j)\n",
    "df_cat.drop(columns=numeric,inplace=True)\n"
   ]
  },
  {
   "cell_type": "code",
   "execution_count": 358,
   "id": "214421cc",
   "metadata": {},
   "outputs": [],
   "source": [
    "# for categorical columns\n",
    "categorical = []\n",
    "for i in df_cat.columns:\n",
    "    categorical.append(i)\n",
    "from sklearn.preprocessing import LabelEncoder\n",
    "trans = LabelEncoder()\n",
    "for column in categorical:\n",
    "    df_cat[column] = trans.fit_transform(df_cat[column])\n",
    "\n",
    "# adding revenue_adj to df_cat\n",
    "df_cat[\"revenue_adj\"] = df[\"revenue_adj\"]"
   ]
  },
  {
   "cell_type": "code",
   "execution_count": 360,
   "id": "f9f6685e",
   "metadata": {},
   "outputs": [
    {
     "data": {
      "text/html": [
       "<div>\n",
       "<style scoped>\n",
       "    .dataframe tbody tr th:only-of-type {\n",
       "        vertical-align: middle;\n",
       "    }\n",
       "\n",
       "    .dataframe tbody tr th {\n",
       "        vertical-align: top;\n",
       "    }\n",
       "\n",
       "    .dataframe thead th {\n",
       "        text-align: right;\n",
       "    }\n",
       "</style>\n",
       "<table border=\"1\" class=\"dataframe\">\n",
       "  <thead>\n",
       "    <tr style=\"text-align: right;\">\n",
       "      <th></th>\n",
       "      <th>imdb_id</th>\n",
       "      <th>original_title</th>\n",
       "      <th>cast</th>\n",
       "      <th>director</th>\n",
       "      <th>tagline</th>\n",
       "      <th>overview</th>\n",
       "      <th>genres</th>\n",
       "      <th>production_companies</th>\n",
       "      <th>release_date</th>\n",
       "      <th>revenue_adj</th>\n",
       "    </tr>\n",
       "  </thead>\n",
       "  <tbody>\n",
       "    <tr>\n",
       "      <th>imdb_id</th>\n",
       "      <td>1.000000</td>\n",
       "      <td>-0.030938</td>\n",
       "      <td>-0.020126</td>\n",
       "      <td>-0.026509</td>\n",
       "      <td>0.117902</td>\n",
       "      <td>-0.011251</td>\n",
       "      <td>0.119054</td>\n",
       "      <td>-0.022780</td>\n",
       "      <td>0.025158</td>\n",
       "      <td>-0.112695</td>\n",
       "    </tr>\n",
       "    <tr>\n",
       "      <th>original_title</th>\n",
       "      <td>-0.030938</td>\n",
       "      <td>1.000000</td>\n",
       "      <td>0.004845</td>\n",
       "      <td>0.017531</td>\n",
       "      <td>-0.007637</td>\n",
       "      <td>0.026900</td>\n",
       "      <td>0.019344</td>\n",
       "      <td>0.014590</td>\n",
       "      <td>-0.004999</td>\n",
       "      <td>0.030606</td>\n",
       "    </tr>\n",
       "    <tr>\n",
       "      <th>cast</th>\n",
       "      <td>-0.020126</td>\n",
       "      <td>0.004845</td>\n",
       "      <td>1.000000</td>\n",
       "      <td>0.037153</td>\n",
       "      <td>0.003766</td>\n",
       "      <td>0.029336</td>\n",
       "      <td>-0.022596</td>\n",
       "      <td>0.024697</td>\n",
       "      <td>-0.004632</td>\n",
       "      <td>0.021351</td>\n",
       "    </tr>\n",
       "    <tr>\n",
       "      <th>director</th>\n",
       "      <td>-0.026509</td>\n",
       "      <td>0.017531</td>\n",
       "      <td>0.037153</td>\n",
       "      <td>1.000000</td>\n",
       "      <td>0.007432</td>\n",
       "      <td>0.009434</td>\n",
       "      <td>-0.000649</td>\n",
       "      <td>0.001392</td>\n",
       "      <td>0.001207</td>\n",
       "      <td>0.016501</td>\n",
       "    </tr>\n",
       "    <tr>\n",
       "      <th>tagline</th>\n",
       "      <td>0.117902</td>\n",
       "      <td>-0.007637</td>\n",
       "      <td>0.003766</td>\n",
       "      <td>0.007432</td>\n",
       "      <td>1.000000</td>\n",
       "      <td>0.016397</td>\n",
       "      <td>0.009471</td>\n",
       "      <td>0.061965</td>\n",
       "      <td>-0.042225</td>\n",
       "      <td>-0.114325</td>\n",
       "    </tr>\n",
       "    <tr>\n",
       "      <th>overview</th>\n",
       "      <td>-0.011251</td>\n",
       "      <td>0.026900</td>\n",
       "      <td>0.029336</td>\n",
       "      <td>0.009434</td>\n",
       "      <td>0.016397</td>\n",
       "      <td>1.000000</td>\n",
       "      <td>-0.032951</td>\n",
       "      <td>0.001502</td>\n",
       "      <td>-0.010381</td>\n",
       "      <td>0.036806</td>\n",
       "    </tr>\n",
       "    <tr>\n",
       "      <th>genres</th>\n",
       "      <td>0.119054</td>\n",
       "      <td>0.019344</td>\n",
       "      <td>-0.022596</td>\n",
       "      <td>-0.000649</td>\n",
       "      <td>0.009471</td>\n",
       "      <td>-0.032951</td>\n",
       "      <td>1.000000</td>\n",
       "      <td>-0.039141</td>\n",
       "      <td>-0.011120</td>\n",
       "      <td>-0.091672</td>\n",
       "    </tr>\n",
       "    <tr>\n",
       "      <th>production_companies</th>\n",
       "      <td>-0.022780</td>\n",
       "      <td>0.014590</td>\n",
       "      <td>0.024697</td>\n",
       "      <td>0.001392</td>\n",
       "      <td>0.061965</td>\n",
       "      <td>0.001502</td>\n",
       "      <td>-0.039141</td>\n",
       "      <td>1.000000</td>\n",
       "      <td>-0.018353</td>\n",
       "      <td>0.030393</td>\n",
       "    </tr>\n",
       "    <tr>\n",
       "      <th>release_date</th>\n",
       "      <td>0.025158</td>\n",
       "      <td>-0.004999</td>\n",
       "      <td>-0.004632</td>\n",
       "      <td>0.001207</td>\n",
       "      <td>-0.042225</td>\n",
       "      <td>-0.010381</td>\n",
       "      <td>-0.011120</td>\n",
       "      <td>-0.018353</td>\n",
       "      <td>1.000000</td>\n",
       "      <td>0.008711</td>\n",
       "    </tr>\n",
       "    <tr>\n",
       "      <th>revenue_adj</th>\n",
       "      <td>-0.112695</td>\n",
       "      <td>0.030606</td>\n",
       "      <td>0.021351</td>\n",
       "      <td>0.016501</td>\n",
       "      <td>-0.114325</td>\n",
       "      <td>0.036806</td>\n",
       "      <td>-0.091672</td>\n",
       "      <td>0.030393</td>\n",
       "      <td>0.008711</td>\n",
       "      <td>1.000000</td>\n",
       "    </tr>\n",
       "  </tbody>\n",
       "</table>\n",
       "</div>"
      ],
      "text/plain": [
       "                       imdb_id  original_title      cast  director   tagline  \\\n",
       "imdb_id               1.000000       -0.030938 -0.020126 -0.026509  0.117902   \n",
       "original_title       -0.030938        1.000000  0.004845  0.017531 -0.007637   \n",
       "cast                 -0.020126        0.004845  1.000000  0.037153  0.003766   \n",
       "director             -0.026509        0.017531  0.037153  1.000000  0.007432   \n",
       "tagline               0.117902       -0.007637  0.003766  0.007432  1.000000   \n",
       "overview             -0.011251        0.026900  0.029336  0.009434  0.016397   \n",
       "genres                0.119054        0.019344 -0.022596 -0.000649  0.009471   \n",
       "production_companies -0.022780        0.014590  0.024697  0.001392  0.061965   \n",
       "release_date          0.025158       -0.004999 -0.004632  0.001207 -0.042225   \n",
       "revenue_adj          -0.112695        0.030606  0.021351  0.016501 -0.114325   \n",
       "\n",
       "                      overview    genres  production_companies  release_date  \\\n",
       "imdb_id              -0.011251  0.119054             -0.022780      0.025158   \n",
       "original_title        0.026900  0.019344              0.014590     -0.004999   \n",
       "cast                  0.029336 -0.022596              0.024697     -0.004632   \n",
       "director              0.009434 -0.000649              0.001392      0.001207   \n",
       "tagline               0.016397  0.009471              0.061965     -0.042225   \n",
       "overview              1.000000 -0.032951              0.001502     -0.010381   \n",
       "genres               -0.032951  1.000000             -0.039141     -0.011120   \n",
       "production_companies  0.001502 -0.039141              1.000000     -0.018353   \n",
       "release_date         -0.010381 -0.011120             -0.018353      1.000000   \n",
       "revenue_adj           0.036806 -0.091672              0.030393      0.008711   \n",
       "\n",
       "                      revenue_adj  \n",
       "imdb_id                 -0.112695  \n",
       "original_title           0.030606  \n",
       "cast                     0.021351  \n",
       "director                 0.016501  \n",
       "tagline                 -0.114325  \n",
       "overview                 0.036806  \n",
       "genres                  -0.091672  \n",
       "production_companies     0.030393  \n",
       "release_date             0.008711  \n",
       "revenue_adj              1.000000  "
      ]
     },
     "execution_count": 360,
     "metadata": {},
     "output_type": "execute_result"
    }
   ],
   "source": [
    "df_cat.corr()\n",
    "\n"
   ]
  },
  {
   "cell_type": "markdown",
   "id": "8917322e",
   "metadata": {},
   "source": [
    "It does apeear that no categorical column is correlated with revenue, this is because of the cardinality of the categorical columns.\n",
    "it will be cool to see if the month a film is released has any effecct\n"
   ]
  },
  {
   "cell_type": "code",
   "execution_count": 367,
   "id": "35cf5af9",
   "metadata": {},
   "outputs": [],
   "source": [
    "df[\"month\"]=df[\"release_date\"].str.split(\"/\",expand=True)[0].astype(int)"
   ]
  },
  {
   "cell_type": "code",
   "execution_count": 370,
   "id": "e2450a3d",
   "metadata": {},
   "outputs": [
    {
     "data": {
      "text/plain": [
       "month\n",
       "12    8.349306e+10\n",
       "6     8.071322e+10\n",
       "5     6.168336e+10\n",
       "7     5.856037e+10\n",
       "11    5.849808e+10\n",
       "3     4.069192e+10\n",
       "10    3.844519e+10\n",
       "8     3.255990e+10\n",
       "4     3.165386e+10\n",
       "9     3.095786e+10\n",
       "2     2.345234e+10\n",
       "1     1.741505e+10\n",
       "Name: revenue_adj, dtype: float64"
      ]
     },
     "execution_count": 370,
     "metadata": {},
     "output_type": "execute_result"
    }
   ],
   "source": [
    "df.groupby(\"month\")[\"revenue_adj\"].sum().sort_values(ascending=False)"
   ]
  },
  {
   "cell_type": "markdown",
   "id": "e4012532",
   "metadata": {},
   "source": [
    "The above shows that there is no relationship between the month and revenue, however there appears to be a relationship when the months are grouped into \"first_quarter\",\"second_quarter\",\"third_quarter\",\"fourth_quarter\""
   ]
  },
  {
   "cell_type": "code",
   "execution_count": 378,
   "id": "de5a74db",
   "metadata": {},
   "outputs": [],
   "source": [
    "month= df[\"month\"]\n",
    "cond_list =[month<4,month<7,month<10,month<13]\n",
    "choice_list=[\"first_quarter\",\"second_quarter\",\"third_quarter\",\"fourth_quarter\"]\n",
    "df[\"quarter\"] = np.select(cond_list,choice_list)"
   ]
  },
  {
   "cell_type": "code",
   "execution_count": 398,
   "id": "cd472fec",
   "metadata": {},
   "outputs": [],
   "source": [
    "quarter_series=df.groupby(\"quarter\")[\"revenue_adj\"].sum().sort_values(ascending=True)"
   ]
  },
  {
   "cell_type": "code",
   "execution_count": 399,
   "id": "00683719",
   "metadata": {},
   "outputs": [
    {
     "data": {
      "image/png": "[encoded data removed]",
      "text/plain": [
       "<Figure size 432x288 with 1 Axes>"
      ]
     },
     "metadata": {
      "needs_background": "light"
     },
     "output_type": "display_data"
    }
   ],
   "source": [
    "plt.bar(x=quarter_series.index,height=quarter_series.values)\n",
    "plt.xlabel(\"quarter\")\n",
    "plt.ylabel(\"quarter_adj\")\n",
    "plt.title(\"Plot of quarter vs Revenue_adj\")\n",
    "plt.xticks(rotation=90)\n",
    "plt.show()"
   ]
  },
  {
   "cell_type": "markdown",
   "id": "a589f4c3",
   "metadata": {},
   "source": [
    "<a id =\"q3\"></a>\n"
   ]
  },
  {
   "cell_type": "markdown",
   "id": "4eb527a9",
   "metadata": {},
   "source": [
    "# Are latest movies performing better than old releases"
   ]
  },
  {
   "cell_type": "markdown",
   "id": "561d3906",
   "metadata": {},
   "source": [
    "To answer this question, its important to classify the different release_year into groups.\n",
    "the movie industry is a fast paced one, hence, changes occur very rapidly. they will be grouped in intervals of 5 years"
   ]
  },
  {
   "cell_type": "code",
   "execution_count": 250,
   "id": "a0e29f46",
   "metadata": {},
   "outputs": [],
   "source": [
    "year= df[\"release_year\"]\n",
    "cond_list =[year<1966,year<1971,year<1976,year<1981,year<1986,year<1991,year<1996,year<2001,year<2006,year<2011,year<2017]\n",
    "choice_list=[\"early_60s\",\"late_60s\",\"early_70s\",\"late_70s\",\"early_80s\",\"late_80s\",\"early_90s\",\"late_90s\",\"early_2000\",\"late_2000\",\"early_2020s\"]\n",
    "df[\"period\"] = np.select(cond_list,choice_list)"
   ]
  },
  {
   "cell_type": "code",
   "execution_count": 258,
   "id": "e4a782d1",
   "metadata": {},
   "outputs": [],
   "source": [
    "period_series=(df.groupby(\"period\")[\"revenue_adj\"].sum().sort_values(ascending=False))/100"
   ]
  },
  {
   "cell_type": "code",
   "execution_count": 259,
   "id": "963a8674",
   "metadata": {},
   "outputs": [
    {
     "data": {
      "text/plain": [
       "period\n",
       "early_2020s    1.165552e+09\n",
       "late_2000      1.022027e+09\n",
       "early_2000     9.004005e+08\n",
       "late_90s       6.749585e+08\n",
       "early_90s      5.102048e+08\n",
       "late_80s       3.746863e+08\n",
       "early_80s      2.622469e+08\n",
       "late_70s       2.523524e+08\n",
       "early_70s      1.824435e+08\n",
       "early_60s      1.198847e+08\n",
       "late_60s       1.164847e+08\n",
       "Name: revenue_adj, dtype: float64"
      ]
     },
     "execution_count": 259,
     "metadata": {},
     "output_type": "execute_result"
    }
   ],
   "source": [
    "period_series"
   ]
  },
  {
   "cell_type": "code",
   "execution_count": 396,
   "id": "86d45008",
   "metadata": {},
   "outputs": [
    {
     "data": {
      "image/png": "[encoded data removed]",
      "text/plain": [
       "<Figure size 432x288 with 1 Axes>"
      ]
     },
     "metadata": {
      "needs_background": "light"
     },
     "output_type": "display_data"
    }
   ],
   "source": [
    "plt.bar(x=period_series.index,height=period_series.values)\n",
    "plt.xlabel(\"period\")\n",
    "plt.ylabel(\"revenue_adj\")\n",
    "plt.title(\"Plot of Period vs Revenue_adj\")\n",
    "plt.xticks(rotation=90)\n",
    "plt.show()"
   ]
  },
  {
   "cell_type": "markdown",
   "id": "05048fea",
   "metadata": {},
   "source": [
    "<a id = \"q4\"></a>"
   ]
  },
  {
   "cell_type": "markdown",
   "id": "79ab0847",
   "metadata": {},
   "source": [
    "<a id = \"q4\"></a>"
   ]
  },
  {
   "cell_type": "markdown",
   "id": "40f66ab5",
   "metadata": {},
   "source": [
    "# Are more rated movies more successful than others"
   ]
  },
  {
   "cell_type": "code",
   "execution_count": 265,
   "id": "ac7d68a3",
   "metadata": {},
   "outputs": [
    {
     "data": {
      "text/plain": [
       "72"
      ]
     },
     "execution_count": 265,
     "metadata": {},
     "output_type": "execute_result"
    }
   ],
   "source": [
    "#Are more rated movies more successful than others\n",
    "df[\"vote_average\"].nunique()"
   ]
  },
  {
   "cell_type": "markdown",
   "id": "a60a3a31",
   "metadata": {},
   "source": [
    "the different rating is quite enormous, it will be better to classify them according to a given range"
   ]
  },
  {
   "cell_type": "code",
   "execution_count": 266,
   "id": "91fd7a5c",
   "metadata": {},
   "outputs": [
    {
     "data": {
      "text/plain": [
       "count    10865.000000\n",
       "mean         5.975012\n",
       "std          0.935138\n",
       "min          1.500000\n",
       "25%          5.400000\n",
       "50%          6.000000\n",
       "75%          6.600000\n",
       "max          9.200000\n",
       "Name: vote_average, dtype: float64"
      ]
     },
     "execution_count": 266,
     "metadata": {},
     "output_type": "execute_result"
    }
   ],
   "source": [
    "df[\"vote_average\"].describe()"
   ]
  },
  {
   "cell_type": "markdown",
   "id": "8d78b84e",
   "metadata": {},
   "source": [
    "As the lowest point is 1.5 and highest value is 9.2, it will be easy to use a range of 0.5"
   ]
  },
  {
   "cell_type": "code",
   "execution_count": 274,
   "id": "ea089433",
   "metadata": {},
   "outputs": [],
   "source": [
    "rate= df[\"vote_average\"]\n",
    "cond_list =[rate<2.0,rate<2.6,rate<3.0,rate<3.6,rate<4.0,rate<4.6,rate<5.0,rate<5.6,rate<6.0,rate<6.6,rate<7.0,rate<7.6,rate<8.0,rate<8.6,rate<9.0,rate>8.9]\n",
    "choice_list=[\"1s\",\"early_2s\",\"late_2s\",\"early_3s\",\"late_3s\",\"early_4s\",\"late_4s\",\"early_5s\",\"late_5s\",\"early_6s\",\"late_6s\",\"early_7s\",\"late_7s\",\"early_8s\",\"late_8s\",\"9s\"]\n",
    "df[\"rating\"] = np.select(cond_list,choice_list)"
   ]
  },
  {
   "cell_type": "code",
   "execution_count": 275,
   "id": "dc04e7a6",
   "metadata": {},
   "outputs": [],
   "source": [
    "rate_series=(df.groupby(\"rating\")[\"revenue_adj\"].sum().sort_values(ascending=False))/100"
   ]
  },
  {
   "cell_type": "code",
   "execution_count": 277,
   "id": "a9b3b0bf",
   "metadata": {},
   "outputs": [
    {
     "data": {
      "text/plain": [
       "rating\n",
       "early_6s    1.670585e+09\n",
       "early_7s    1.187968e+09\n",
       "late_6s     9.552880e+08\n",
       "late_5s     7.464441e+08\n",
       "early_5s    4.742565e+08\n",
       "late_7s     3.366063e+08\n",
       "early_8s    8.898759e+07\n",
       "late_4s     7.626627e+07\n",
       "early_4s    3.623072e+07\n",
       "late_3s     6.370666e+06\n",
       "early_3s    2.132017e+06\n",
       "early_2s    1.058622e+05\n",
       "1s          0.000000e+00\n",
       "9s          0.000000e+00\n",
       "late_2s     0.000000e+00\n",
       "late_8s     0.000000e+00\n",
       "Name: revenue_adj, dtype: float64"
      ]
     },
     "execution_count": 277,
     "metadata": {},
     "output_type": "execute_result"
    }
   ],
   "source": [
    "rate_series"
   ]
  },
  {
   "cell_type": "code",
   "execution_count": 278,
   "id": "adbc4793",
   "metadata": {},
   "outputs": [
    {
     "data": {
      "image/png": "[encoded data removed]",
      "text/plain": [
       "<Figure size 432x288 with 1 Axes>"
      ]
     },
     "metadata": {
      "needs_background": "light"
     },
     "output_type": "display_data"
    }
   ],
   "source": [
    "plt.bar(x=rate_series.index,height=rate_series.values)\n",
    "plt.xlabel(\"rate category\")\n",
    "plt.ylabel(\"revenue_adj\")\n",
    "plt.title(\"Plot of ratings vs Revenue_adj\")\n",
    "plt.xticks(rotation=90)\n",
    "plt.show()"
   ]
  },
  {
   "cell_type": "code",
   "execution_count": 280,
   "id": "b27e7c32",
   "metadata": {},
   "outputs": [
    {
     "data": {
      "text/plain": [
       "0.19306239300279385"
      ]
     },
     "execution_count": 280,
     "metadata": {},
     "output_type": "execute_result"
    }
   ],
   "source": [
    "df[\"vote_average\"].corr(df[\"revenue_adj\"])"
   ]
  },
  {
   "cell_type": "code",
   "execution_count": null,
   "id": "9b5ecbb3",
   "metadata": {},
   "outputs": [],
   "source": []
  },
  {
   "cell_type": "markdown",
   "id": "27388a32",
   "metadata": {},
   "source": [
    "<a id = \"conclusion\"></a>\n",
    "# Conclusion "
   ]
  },
  {
   "cell_type": "markdown",
   "id": "d7562c3d",
   "metadata": {},
   "source": [
    "From the above analysis it can be deduced that\n",
    "1. the most popular genres are \"action\",\"adventure\",\"comedy\",\"drama\"\n",
    "2. The properties that influence revenue are\n",
    "    1.\"popularity\"\n",
    "    2.\"vote_count\"\n",
    "    3.\"budget_adj\"\n",
    "\n",
    "3. More recent movies are making more revenues compared to their older counterpart\n",
    "4. From the plot and correlation value, it is obvious that there is no relationship between rating and revenue"
   ]
  }
 ],
 "metadata": {
  "kernelspec": {
   "display_name": "Python 3 (ipykernel)",
   "language": "python",
   "name": "python3"
  },
  "language_info": {
   "codemirror_mode": {
    "name": "ipython",
    "version": 3
   },
   "file_extension": ".py",
   "mimetype": "text/x-python",
   "name": "python",
   "nbconvert_exporter": "python",
   "pygments_lexer": "ipython3",
   "version": "3.9.7"
  }
 },
 "nbformat": 4,
 "nbformat_minor": 5
}
